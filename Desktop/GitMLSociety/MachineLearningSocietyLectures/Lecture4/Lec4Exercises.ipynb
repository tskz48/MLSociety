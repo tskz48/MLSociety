{
 "cells": [
  {
   "cell_type": "code",
   "execution_count": null,
   "metadata": {},
   "outputs": [
    {
     "name": "stdout",
     "output_type": "stream",
     "text": [
      "[[ 4.8    1.21   2.385]\n",
      " [ 8.9   -1.81   0.2  ]\n",
      " [ 1.41   1.051  0.026]]\n",
      "[[0.33905979 0.25084926 0.43632908 0.92057604]\n",
      " [0.29246464 0.40200298 0.42416697 0.32787065]\n",
      " [0.3300373  0.72324688 0.59726866 0.32601114]]\n"
     ]
    }
   ],
   "source": [
    "import numpy as np\n",
    "import random\n",
    "\n",
    "\n",
    "#Question 1\n",
    "\n",
    "inputs = [[1.0, 2.0, 3.0, 2.5],\n",
    "          [2.0, 5.0, -1.0, 2.0],\n",
    "          [-1.5, 2.7, 3.3, -0.8]]\n",
    "weights = [[0.2, 0.8, -0.5, 1.0],\n",
    "           [0.5, -0.91, 0.26, -0.5],\n",
    "           [-0.26, -0.27, 0.17, 0.87]]\n",
    "biases = [2.0, 3.0, 0.5]\n",
    "\n",
    "\n",
    "layer_outputs1 = np.dot(inputs, np.array(weights).T) + biases\n",
    "print(layer_outputs1)         \n",
    "weights2 = np.random.rand(len(weights), len(weights[0]))\n",
    "print(weights2)\n",
    "\n",
    "layer_outputs2= np.dot(inputs, np.array(weights2).T) + biases\n",
    "\n",
    "#We flatten the weights and inputs to a 1 dimensional array, so we can aggregate to one output.\n",
    "weights2_flat = weights2.flatten()  # Flatten weights to a single 1D array\n",
    "inputs_flat = np.array(inputs).flatten()  # Flatten inputs to a single 1D array\n",
    "combined_bias = np.sum(biases)\n",
    "single_output = np.dot(inputs_flat, weights2_flat) + combined_bias\n",
    "print(\"Single Output:\", single_output)\n",
    "\n",
    "#Question 2\n",
    "\n",
    "\n",
    "def relu(x):\n",
    "    return np.maximum(0,x)\n",
    "\n",
    "relu(layer_outputs1)\n",
    "relu(layer_outputs2)"
   ]
  }
 ],
 "metadata": {
  "kernelspec": {
   "display_name": "VSCode",
   "language": "python",
   "name": "python3"
  },
  "language_info": {
   "codemirror_mode": {
    "name": "ipython",
    "version": 3
   },
   "file_extension": ".py",
   "mimetype": "text/x-python",
   "name": "python",
   "nbconvert_exporter": "python",
   "pygments_lexer": "ipython3",
   "version": "3.12.7"
  }
 },
 "nbformat": 4,
 "nbformat_minor": 2
}
